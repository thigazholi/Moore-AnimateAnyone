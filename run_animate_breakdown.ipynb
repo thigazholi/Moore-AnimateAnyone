{
  "cells": [
    {
      "cell_type": "code",
      "execution_count": null,
      "id": "oexuyKMX9gCjFJvIo7g7cCTy",
      "metadata": {
        "id": "oexuyKMX9gCjFJvIo7g7cCTy",
        "tags": []
      },
      "outputs": [],
      "source": [
        "# !git clone https://github.com/thigazholi/Moore-AnimateAnyone.git\n",
        "# %cd Moore-AnimateAnyone\n",
        "# !pip install -r requirements.txt\n",
        "!python tools/download_weights.py"
      ]
    },
    {
      "cell_type": "markdown",
      "id": "vixEmlw1YqcL",
      "metadata": {
        "id": "vixEmlw1YqcL"
      },
      "source": [
        "# 0.Libraries"
      ]
    },
    {
      "cell_type": "code",
      "execution_count": null,
      "id": "1MYZ1njsWP4q",
      "metadata": {
        "colab": {
          "base_uri": "https://localhost:8080/",
          "height": 86,
          "referenced_widgets": [
            "d3a3ab0accbe48789587555da2bb6494",
            "7f8b75ca663f46c5b0341a004e027c55",
            "bcba8d6cca3a404ea4648956f8ea6624",
            "4457a388fc76471facd0a4bdc30e0050",
            "3393343e50e24059b3ffc9623bdd5993",
            "0e0f23e5fd214b7ebf24dd99d56b5924",
            "3f4b3306a6cd4c3c809e9f90e0531569",
            "f4f894f04b6045279cec831850de7293",
            "7cc7ff16fcda4ceda762485682a3e1be",
            "e371a0fd0b08416aa8485bea541c2d81",
            "229d0febccab4039b1c89d1d78df8a6f"
          ]
        },
        "executionInfo": {
          "elapsed": 35424,
          "status": "ok",
          "timestamp": 1707290298414,
          "user": {
            "displayName": "",
            "userId": ""
          },
          "user_tz": -330
        },
        "id": "1MYZ1njsWP4q",
        "outputId": "41f56f24-f748-445f-e1db-6d6e555e995c"
      },
      "outputs": [
        {
          "name": "stderr",
          "output_type": "stream",
          "text": [
            "The cache for model files in Transformers v4.22.0 has been updated. Migrating your old cache. This is a one-time only operation. You can interrupt this and resume the migration later on by calling `transformers.utils.move_cache()`.\n"
          ]
        },
        {
          "data": {
            "application/vnd.jupyter.widget-view+json": {
              "model_id": "d3a3ab0accbe48789587555da2bb6494",
              "version_major": 2,
              "version_minor": 0
            },
            "text/plain": [
              "0it [00:00, ?it/s]"
            ]
          },
          "metadata": {},
          "output_type": "display_data"
        }
      ],
      "source": [
        "import sys\n",
        "sys.path.append(r'/content/Moore-AnimateAnyone')\n",
        "\n",
        "import argparse\n",
        "import os\n",
        "from datetime import datetime\n",
        "from pathlib import Path\n",
        "from typing import List\n",
        "\n",
        "import av\n",
        "import numpy as np\n",
        "import torch\n",
        "import torchvision\n",
        "from diffusers import AutoencoderKL, DDIMScheduler\n",
        "from diffusers.pipelines.stable_diffusion import StableDiffusionPipeline\n",
        "from einops import repeat\n",
        "from omegaconf import OmegaConf\n",
        "from PIL import Image\n",
        "from torchvision import transforms\n",
        "from transformers import CLIPVisionModelWithProjection\n",
        "\n",
        "from configs.prompts.test_cases import TestCasesDict\n",
        "from src.models.pose_guider import PoseGuider\n",
        "from src.models.unet_2d_condition import UNet2DConditionModel\n",
        "from src.models.unet_3d import UNet3DConditionModel\n",
        "from src.pipelines.pipeline_pose2vid_long import Pose2VideoPipeline\n",
        "from src.utils.util import get_fps, read_frames, save_videos_grid"
      ]
    },
    {
      "cell_type": "markdown",
      "id": "8wGa29XwYxkV",
      "metadata": {
        "id": "8wGa29XwYxkV"
      },
      "source": [
        "# 1.Configuration"
      ]
    },
    {
      "cell_type": "code",
      "execution_count": null,
      "id": "uAO96I5sY14J",
      "metadata": {
        "id": "uAO96I5sY14J"
      },
      "outputs": [],
      "source": [
        "#_________________________model_paths_________________________\n",
        "\n",
        "pretrained_base_model_path = \"./pretrained_weights/stable-diffusion-v1-5/\"\n",
        "pretrained_vae_path = \"./pretrained_weights/sd-vae-ft-mse\"\n",
        "image_encoder_path = \"./pretrained_weights/image_encoder\"\n",
        "denoising_unet_path = \"./pretrained_weights/denoising_unet.pth\"\n",
        "reference_unet_path = \"./pretrained_weights/reference_unet.pth\"\n",
        "pose_guider_path = \"./pretrained_weights/pose_guider.pth\"\n",
        "motion_module_path = \"./pretrained_weights/motion_module.pth\"\n",
        "inference_config = \"./configs/inference/inference_v2.yaml\"\n",
        "\n",
        "weight_dtype = torch.float16"
      ]
    },
    {
      "cell_type": "markdown",
      "id": "p7bGtrH0Z3Di",
      "metadata": {
        "id": "p7bGtrH0Z3Di"
      },
      "source": [
        "# 2.Load models and create a pose2video pipeline"
      ]
    },
    {
      "cell_type": "code",
      "execution_count": null,
      "id": "uunP5NZNZ4QH",
      "metadata": {
        "colab": {
          "base_uri": "https://localhost:8080/"
        },
        "executionInfo": {
          "elapsed": 165828,
          "status": "ok",
          "timestamp": 1707290634617,
          "user": {
            "displayName": "",
            "userId": ""
          },
          "user_tz": -330
        },
        "id": "uunP5NZNZ4QH",
        "outputId": "b6eed49f-f785-4fbb-d0b0-39d3d24c1e55"
      },
      "outputs": [
        {
          "name": "stdout",
          "output_type": "stream",
          "text": [
            "LOADING VAE\n",
            "LOADING UNET2D\n"
          ]
        },
        {
          "name": "stderr",
          "output_type": "stream",
          "text": [
            "Some weights of the model checkpoint were not used when initializing UNet2DConditionModel: \n",
            " ['conv_norm_out.weight, conv_norm_out.bias, conv_out.weight, conv_out.bias']\n"
          ]
        },
        {
          "name": "stdout",
          "output_type": "stream",
          "text": [
            "LOADING UNET3D\n"
          ]
        },
        {
          "name": "stderr",
          "output_type": "stream",
          "text": [
            "/usr/local/lib/python3.10/dist-packages/torch/_utils.py:776: UserWarning: TypedStorage is deprecated. It will be removed in the future and UntypedStorage will be the only storage class. This should only matter to you if you are using storages directly.  To access UntypedStorage directly, use tensor.untyped_storage() instead of tensor.storage()\n",
            "  return self.fget.__get__(instance, owner)()\n"
          ]
        },
        {
          "name": "stdout",
          "output_type": "stream",
          "text": [
            "LOADING POSE GUIDER\n",
            "CLIP VISION\n",
            "SETTING SCHEDULER\n",
            "LOADING PRETRAINED WEIGHTS\n",
            "CALLING PIPELINE\n"
          ]
        }
      ],
      "source": [
        "#________________________load_models____________________________\n",
        "\n",
        "#________________________VAE____________________________\n",
        "print(\"LOADING VAE\")\n",
        "vae = AutoencoderKL.from_pretrained(pretrained_vae_path).to(\"cuda\", dtype=weight_dtype)\n",
        "\n",
        "#________________________UNET2D____________________________\n",
        "print(\"LOADING UNET2D\")\n",
        "reference_unet = UNet2DConditionModel.from_pretrained(pretrained_base_model_path,subfolder=\"unet\",).to(dtype=weight_dtype, device=\"cuda\")\n",
        "\n",
        "inference_config_path = inference_config\n",
        "infer_config = OmegaConf.load(inference_config_path)\n",
        "\n",
        "#________________________UNET3D____________________________\n",
        "print(\"LOADING UNET3D\")\n",
        "denoising_unet = UNet3DConditionModel.from_pretrained_2d(pretrained_base_model_path, motion_module_path,\n",
        "                                                         subfolder=\"unet\", unet_additional_kwargs=infer_config.unet_additional_kwargs,\n",
        "                                                        ).to(dtype=weight_dtype, device=\"cuda\")\n",
        "#________________________POSE_GUIDER____________________________\n",
        "print(\"LOADING POSE GUIDER\")\n",
        "pose_guider = PoseGuider(320, block_out_channels=(16, 32, 96, 256)).to(dtype=weight_dtype, device=\"cuda\")\n",
        "\n",
        "#________________________CLIP (reference net part)____________________________\n",
        "print('CLIP VISION')\n",
        "image_enc = CLIPVisionModelWithProjection.from_pretrained(image_encoder_path).to(dtype=weight_dtype, device=\"cuda\")\n",
        "sched_kwargs = OmegaConf.to_container(infer_config.noise_scheduler_kwargs)\n",
        "\n",
        "#________________________SCHEDULER____________________________\n",
        "print('SETTING SCHEDULER')\n",
        "scheduler = DDIMScheduler(**sched_kwargs)\n",
        "\n",
        "# load pretrained weights\n",
        "\n",
        "print('LOADING PRETRAINED WEIGHTS')\n",
        "denoising_unet.load_state_dict(torch.load(denoising_unet_path, map_location=\"cpu\"),strict=False,)\n",
        "reference_unet.load_state_dict(torch.load(reference_unet_path, map_location=\"cpu\"),)\n",
        "pose_guider.load_state_dict(torch.load(pose_guider_path, map_location=\"cpu\"),)\n",
        "\n",
        "\n",
        "print(\"CALLING PIPELINE\")\n",
        "pipe = Pose2VideoPipeline(\n",
        "                              vae            =vae,\n",
        "                              image_encoder  =image_enc,\n",
        "                              reference_unet =reference_unet,\n",
        "                              denoising_unet =denoising_unet,\n",
        "                              pose_guider    =pose_guider,\n",
        "                              scheduler      =scheduler,\n",
        "                          )\n",
        "pipe = pipe.to(\"cuda\", dtype=weight_dtype)"
      ]
    },
    {
      "cell_type": "markdown",
      "id": "J1FcmwqFdE8l",
      "metadata": {
        "id": "J1FcmwqFdE8l"
      },
      "source": [
        "# 3.Tweak params here path, width, height"
      ]
    },
    {
      "cell_type": "code",
      "execution_count": null,
      "id": "2oP5SMM0cT5c",
      "metadata": {
        "id": "2oP5SMM0cT5c"
      },
      "outputs": [],
      "source": [
        "#tweek\n",
        "seed = 42\n",
        "cfg = 3.5\n",
        "steps = 30 #expedite\n",
        "\n",
        "W = 512\n",
        "H = 784\n",
        "L = 24\n",
        "fps = None\n",
        "\n",
        "ref_image_path = r'./configs/inference/ref_images/anyone-10.png'\n",
        "pose_video_path = r\"./configs/inference/pose_videos/anyone-video-1_kps.mp4\"\n"
      ]
    },
    {
      "cell_type": "markdown",
      "id": "NH7yGydJe01e",
      "metadata": {
        "id": "NH7yGydJe01e"
      },
      "source": [
        "# 4.Generate and save the video here"
      ]
    },
    {
      "cell_type": "code",
      "execution_count": null,
      "id": "YT7i9rhzbz8M",
      "metadata": {
        "colab": {
          "base_uri": "https://localhost:8080/",
          "height": 191,
          "referenced_widgets": [
            "af289e45d55a46e6a80267b104d88fac",
            "57fcee70bb1e45098ee19dc565bca2bf",
            "dd30c1e49a574d8298b5c308e43d26cd",
            "69cf0dfed2974f2797c426821deda721",
            "308fd00d0fe4474d89a935afa097f1c2",
            "cec816245ab040cb90524ad49bf031c2",
            "f8bde860e939474688aa9bf97dff9b0c",
            "78381e254ca643ba8bb4570d379649de",
            "d5343f6a748e405cb267147c547b8bdb",
            "273b75337b7449f8867990459cb8a4d1",
            "76b4a5d30818438b9315d46cd27dc67d"
          ]
        },
        "id": "YT7i9rhzbz8M",
        "outputId": "0c23bb67-a638-4177-de9a-02f8c3ab981a"
      },
      "outputs": [
        {
          "name": "stdout",
          "output_type": "stream",
          "text": [
            "POSE VIDEO TO FRAME GENERATION\n",
            "image: ./configs/inference/ref_images/anyone-10.png, pose_name: ./configs/inference/pose_videos/anyone-video-1_kps.mp4\n",
            "pose video has 200 frames, with 30 fps\n",
            "SETTING GENERATOR\n",
            "Video PIPELINE\n"
          ]
        },
        {
          "name": "stderr",
          "output_type": "stream",
          "text": [
            "/content/Moore-AnimateAnyone/src/pipelines/pipeline_pose2vid_long.py:406: FutureWarning: Accessing config attribute `in_channels` directly via 'UNet3DConditionModel' object attribute is deprecated. Please access 'in_channels' over 'UNet3DConditionModel's config object instead, e.g. 'unet.config.in_channels'.\n",
            "  num_channels_latents = self.denoising_unet.in_channels\n"
          ]
        },
        {
          "data": {
            "application/vnd.jupyter.widget-view+json": {
              "model_id": "af289e45d55a46e6a80267b104d88fac",
              "version_major": 2,
              "version_minor": 0
            },
            "text/plain": [
              "  0%|          | 0/30 [00:00<?, ?it/s]"
            ]
          },
          "metadata": {},
          "output_type": "display_data"
        }
      ],
      "source": [
        "#____________________________POSE TRANSFORM_________________________________________________\n",
        "\n",
        "print('POSE VIDEO TO FRAME GENERATION')\n",
        "ref_name = Path(ref_image_path).stem\n",
        "pose_name = Path(pose_video_path).stem.replace(\"_kps\", \"\")\n",
        "\n",
        "print(f\"image: {ref_image_path}, pose_name: {pose_video_path}\")\n",
        "\n",
        "ref_image_pil = Image.open(ref_image_path).convert(\"RGB\")\n",
        "\n",
        "pose_list = []\n",
        "pose_tensor_list = []\n",
        "\n",
        "pose_images = read_frames(pose_video_path)\n",
        "src_fps = get_fps(pose_video_path)\n",
        "width, height = W, H\n",
        "L = len(pose_images)\n",
        "\n",
        "print(f\"pose video has {len(pose_images)} frames, with {src_fps} fps\")\n",
        "pose_transform = transforms.Compose([transforms.Resize((height, width)), transforms.ToTensor()])\n",
        "\n",
        "for pose_image_pil in pose_images[: L]:\n",
        "    pose_tensor_list.append(pose_transform(pose_image_pil))\n",
        "    pose_list.append(pose_image_pil)\n",
        "\n",
        "ref_image_tensor = pose_transform(ref_image_pil)  # (c, h, w)\n",
        "ref_image_tensor = ref_image_tensor.unsqueeze(1).unsqueeze(0)  # (1, c, 1, h, w)\n",
        "ref_image_tensor = repeat(ref_image_tensor, \"b c f h w -> b c (repeat f) h w\", repeat=L)\n",
        "\n",
        "pose_tensor = torch.stack(pose_tensor_list, dim=0)  # (f, c, h, w)\n",
        "pose_tensor = pose_tensor.transpose(0, 1)\n",
        "pose_tensor = pose_tensor.unsqueeze(0)\n",
        "\n",
        "print('SETTING GENERATOR')\n",
        "generator = torch.manual_seed(seed)\n",
        "\n",
        "\n",
        "print(\"Video PIPELINE\")\n",
        "video = pipe(   ref_image_pil,\n",
        "                pose_list,\n",
        "                width,\n",
        "                height,\n",
        "                L,\n",
        "                steps,\n",
        "                cfg,\n",
        "                generator=generator,\n",
        "            ).videos\n",
        "\n",
        "video = torch.cat([ref_image_tensor, pose_tensor, video], dim=0)\n",
        "\n",
        "#_________________________________SAVING THE FILE_____________________________________________\n",
        "\n",
        "date_str = datetime.now().strftime(\"%Y%m%d\")\n",
        "time_str = datetime.now().strftime(\"%H%M\")\n",
        "save_dir_name = f\"{time_str}--seed_{seed}-{W}x{H}\"\n",
        "\n",
        "save_dir = Path(f\"output/{date_str}/{save_dir_name}\")\n",
        "save_dir.mkdir(exist_ok=True, parents=True)\n",
        "\n",
        "save_videos_grid(\n",
        "                      video,\n",
        "                      f\"{save_dir}/{ref_name}_{pose_name}_{H}x{W}_{int(cfg)}_{time_str}.mp4\",\n",
        "                      n_rows=3,\n",
        "                      fps = src_fps,\n",
        "                  )"
      ]
    },
    {
      "cell_type": "code",
      "execution_count": null,
      "id": "qECl3ruDfyT4",
      "metadata": {
        "id": "qECl3ruDfyT4"
      },
      "outputs": [],
      "source": []
    }
  ],
  "metadata": {
    "colab": {
      "provenance": []
    },
    "kernelspec": {
      "display_name": "Python 3",
      "language": "python",
      "name": "python3"
    },
    "language_info": {
      "codemirror_mode": {
        "name": "ipython",
        "version": 3
      },
      "file_extension": ".py",
      "mimetype": "text/x-python",
      "name": "python",
      "nbconvert_exporter": "python",
      "pygments_lexer": "ipython3",
      "version": "3.10.10"
    },
    "widgets": {
      "application/vnd.jupyter.widget-state+json": {
        "0e0f23e5fd214b7ebf24dd99d56b5924": {
          "model_module": "@jupyter-widgets/base",
          "model_module_version": "1.2.0",
          "model_name": "LayoutModel",
          "state": {
            "_model_module": "@jupyter-widgets/base",
            "_model_module_version": "1.2.0",
            "_model_name": "LayoutModel",
            "_view_count": null,
            "_view_module": "@jupyter-widgets/base",
            "_view_module_version": "1.2.0",
            "_view_name": "LayoutView",
            "align_content": null,
            "align_items": null,
            "align_self": null,
            "border": null,
            "bottom": null,
            "display": null,
            "flex": null,
            "flex_flow": null,
            "grid_area": null,
            "grid_auto_columns": null,
            "grid_auto_flow": null,
            "grid_auto_rows": null,
            "grid_column": null,
            "grid_gap": null,
            "grid_row": null,
            "grid_template_areas": null,
            "grid_template_columns": null,
            "grid_template_rows": null,
            "height": null,
            "justify_content": null,
            "justify_items": null,
            "left": null,
            "margin": null,
            "max_height": null,
            "max_width": null,
            "min_height": null,
            "min_width": null,
            "object_fit": null,
            "object_position": null,
            "order": null,
            "overflow": null,
            "overflow_x": null,
            "overflow_y": null,
            "padding": null,
            "right": null,
            "top": null,
            "visibility": null,
            "width": null
          }
        },
        "229d0febccab4039b1c89d1d78df8a6f": {
          "model_module": "@jupyter-widgets/controls",
          "model_module_version": "1.5.0",
          "model_name": "DescriptionStyleModel",
          "state": {
            "_model_module": "@jupyter-widgets/controls",
            "_model_module_version": "1.5.0",
            "_model_name": "DescriptionStyleModel",
            "_view_count": null,
            "_view_module": "@jupyter-widgets/base",
            "_view_module_version": "1.2.0",
            "_view_name": "StyleView",
            "description_width": ""
          }
        },
        "273b75337b7449f8867990459cb8a4d1": {
          "model_module": "@jupyter-widgets/base",
          "model_module_version": "1.2.0",
          "model_name": "LayoutModel",
          "state": {
            "_model_module": "@jupyter-widgets/base",
            "_model_module_version": "1.2.0",
            "_model_name": "LayoutModel",
            "_view_count": null,
            "_view_module": "@jupyter-widgets/base",
            "_view_module_version": "1.2.0",
            "_view_name": "LayoutView",
            "align_content": null,
            "align_items": null,
            "align_self": null,
            "border": null,
            "bottom": null,
            "display": null,
            "flex": null,
            "flex_flow": null,
            "grid_area": null,
            "grid_auto_columns": null,
            "grid_auto_flow": null,
            "grid_auto_rows": null,
            "grid_column": null,
            "grid_gap": null,
            "grid_row": null,
            "grid_template_areas": null,
            "grid_template_columns": null,
            "grid_template_rows": null,
            "height": null,
            "justify_content": null,
            "justify_items": null,
            "left": null,
            "margin": null,
            "max_height": null,
            "max_width": null,
            "min_height": null,
            "min_width": null,
            "object_fit": null,
            "object_position": null,
            "order": null,
            "overflow": null,
            "overflow_x": null,
            "overflow_y": null,
            "padding": null,
            "right": null,
            "top": null,
            "visibility": null,
            "width": null
          }
        },
        "308fd00d0fe4474d89a935afa097f1c2": {
          "model_module": "@jupyter-widgets/base",
          "model_module_version": "1.2.0",
          "model_name": "LayoutModel",
          "state": {
            "_model_module": "@jupyter-widgets/base",
            "_model_module_version": "1.2.0",
            "_model_name": "LayoutModel",
            "_view_count": null,
            "_view_module": "@jupyter-widgets/base",
            "_view_module_version": "1.2.0",
            "_view_name": "LayoutView",
            "align_content": null,
            "align_items": null,
            "align_self": null,
            "border": null,
            "bottom": null,
            "display": null,
            "flex": null,
            "flex_flow": null,
            "grid_area": null,
            "grid_auto_columns": null,
            "grid_auto_flow": null,
            "grid_auto_rows": null,
            "grid_column": null,
            "grid_gap": null,
            "grid_row": null,
            "grid_template_areas": null,
            "grid_template_columns": null,
            "grid_template_rows": null,
            "height": null,
            "justify_content": null,
            "justify_items": null,
            "left": null,
            "margin": null,
            "max_height": null,
            "max_width": null,
            "min_height": null,
            "min_width": null,
            "object_fit": null,
            "object_position": null,
            "order": null,
            "overflow": null,
            "overflow_x": null,
            "overflow_y": null,
            "padding": null,
            "right": null,
            "top": null,
            "visibility": null,
            "width": null
          }
        },
        "3393343e50e24059b3ffc9623bdd5993": {
          "model_module": "@jupyter-widgets/base",
          "model_module_version": "1.2.0",
          "model_name": "LayoutModel",
          "state": {
            "_model_module": "@jupyter-widgets/base",
            "_model_module_version": "1.2.0",
            "_model_name": "LayoutModel",
            "_view_count": null,
            "_view_module": "@jupyter-widgets/base",
            "_view_module_version": "1.2.0",
            "_view_name": "LayoutView",
            "align_content": null,
            "align_items": null,
            "align_self": null,
            "border": null,
            "bottom": null,
            "display": null,
            "flex": null,
            "flex_flow": null,
            "grid_area": null,
            "grid_auto_columns": null,
            "grid_auto_flow": null,
            "grid_auto_rows": null,
            "grid_column": null,
            "grid_gap": null,
            "grid_row": null,
            "grid_template_areas": null,
            "grid_template_columns": null,
            "grid_template_rows": null,
            "height": null,
            "justify_content": null,
            "justify_items": null,
            "left": null,
            "margin": null,
            "max_height": null,
            "max_width": null,
            "min_height": null,
            "min_width": null,
            "object_fit": null,
            "object_position": null,
            "order": null,
            "overflow": null,
            "overflow_x": null,
            "overflow_y": null,
            "padding": null,
            "right": null,
            "top": null,
            "visibility": null,
            "width": null
          }
        },
        "3f4b3306a6cd4c3c809e9f90e0531569": {
          "model_module": "@jupyter-widgets/controls",
          "model_module_version": "1.5.0",
          "model_name": "DescriptionStyleModel",
          "state": {
            "_model_module": "@jupyter-widgets/controls",
            "_model_module_version": "1.5.0",
            "_model_name": "DescriptionStyleModel",
            "_view_count": null,
            "_view_module": "@jupyter-widgets/base",
            "_view_module_version": "1.2.0",
            "_view_name": "StyleView",
            "description_width": ""
          }
        },
        "4457a388fc76471facd0a4bdc30e0050": {
          "model_module": "@jupyter-widgets/controls",
          "model_module_version": "1.5.0",
          "model_name": "HTMLModel",
          "state": {
            "_dom_classes": [],
            "_model_module": "@jupyter-widgets/controls",
            "_model_module_version": "1.5.0",
            "_model_name": "HTMLModel",
            "_view_count": null,
            "_view_module": "@jupyter-widgets/controls",
            "_view_module_version": "1.5.0",
            "_view_name": "HTMLView",
            "description": "",
            "description_tooltip": null,
            "layout": "IPY_MODEL_e371a0fd0b08416aa8485bea541c2d81",
            "placeholder": "​",
            "style": "IPY_MODEL_229d0febccab4039b1c89d1d78df8a6f",
            "value": " 0/0 [00:00&lt;?, ?it/s]"
          }
        },
        "57fcee70bb1e45098ee19dc565bca2bf": {
          "model_module": "@jupyter-widgets/controls",
          "model_module_version": "1.5.0",
          "model_name": "HTMLModel",
          "state": {
            "_dom_classes": [],
            "_model_module": "@jupyter-widgets/controls",
            "_model_module_version": "1.5.0",
            "_model_name": "HTMLModel",
            "_view_count": null,
            "_view_module": "@jupyter-widgets/controls",
            "_view_module_version": "1.5.0",
            "_view_name": "HTMLView",
            "description": "",
            "description_tooltip": null,
            "layout": "IPY_MODEL_cec816245ab040cb90524ad49bf031c2",
            "placeholder": "​",
            "style": "IPY_MODEL_f8bde860e939474688aa9bf97dff9b0c",
            "value": " 33%"
          }
        },
        "69cf0dfed2974f2797c426821deda721": {
          "model_module": "@jupyter-widgets/controls",
          "model_module_version": "1.5.0",
          "model_name": "HTMLModel",
          "state": {
            "_dom_classes": [],
            "_model_module": "@jupyter-widgets/controls",
            "_model_module_version": "1.5.0",
            "_model_name": "HTMLModel",
            "_view_count": null,
            "_view_module": "@jupyter-widgets/controls",
            "_view_module_version": "1.5.0",
            "_view_name": "HTMLView",
            "description": "",
            "description_tooltip": null,
            "layout": "IPY_MODEL_273b75337b7449f8867990459cb8a4d1",
            "placeholder": "​",
            "style": "IPY_MODEL_76b4a5d30818438b9315d46cd27dc67d",
            "value": " 10/30 [05:14&lt;10:28, 31.44s/it]"
          }
        },
        "76b4a5d30818438b9315d46cd27dc67d": {
          "model_module": "@jupyter-widgets/controls",
          "model_module_version": "1.5.0",
          "model_name": "DescriptionStyleModel",
          "state": {
            "_model_module": "@jupyter-widgets/controls",
            "_model_module_version": "1.5.0",
            "_model_name": "DescriptionStyleModel",
            "_view_count": null,
            "_view_module": "@jupyter-widgets/base",
            "_view_module_version": "1.2.0",
            "_view_name": "StyleView",
            "description_width": ""
          }
        },
        "78381e254ca643ba8bb4570d379649de": {
          "model_module": "@jupyter-widgets/base",
          "model_module_version": "1.2.0",
          "model_name": "LayoutModel",
          "state": {
            "_model_module": "@jupyter-widgets/base",
            "_model_module_version": "1.2.0",
            "_model_name": "LayoutModel",
            "_view_count": null,
            "_view_module": "@jupyter-widgets/base",
            "_view_module_version": "1.2.0",
            "_view_name": "LayoutView",
            "align_content": null,
            "align_items": null,
            "align_self": null,
            "border": null,
            "bottom": null,
            "display": null,
            "flex": null,
            "flex_flow": null,
            "grid_area": null,
            "grid_auto_columns": null,
            "grid_auto_flow": null,
            "grid_auto_rows": null,
            "grid_column": null,
            "grid_gap": null,
            "grid_row": null,
            "grid_template_areas": null,
            "grid_template_columns": null,
            "grid_template_rows": null,
            "height": null,
            "justify_content": null,
            "justify_items": null,
            "left": null,
            "margin": null,
            "max_height": null,
            "max_width": null,
            "min_height": null,
            "min_width": null,
            "object_fit": null,
            "object_position": null,
            "order": null,
            "overflow": null,
            "overflow_x": null,
            "overflow_y": null,
            "padding": null,
            "right": null,
            "top": null,
            "visibility": null,
            "width": null
          }
        },
        "7cc7ff16fcda4ceda762485682a3e1be": {
          "model_module": "@jupyter-widgets/controls",
          "model_module_version": "1.5.0",
          "model_name": "ProgressStyleModel",
          "state": {
            "_model_module": "@jupyter-widgets/controls",
            "_model_module_version": "1.5.0",
            "_model_name": "ProgressStyleModel",
            "_view_count": null,
            "_view_module": "@jupyter-widgets/base",
            "_view_module_version": "1.2.0",
            "_view_name": "StyleView",
            "bar_color": null,
            "description_width": ""
          }
        },
        "7f8b75ca663f46c5b0341a004e027c55": {
          "model_module": "@jupyter-widgets/controls",
          "model_module_version": "1.5.0",
          "model_name": "HTMLModel",
          "state": {
            "_dom_classes": [],
            "_model_module": "@jupyter-widgets/controls",
            "_model_module_version": "1.5.0",
            "_model_name": "HTMLModel",
            "_view_count": null,
            "_view_module": "@jupyter-widgets/controls",
            "_view_module_version": "1.5.0",
            "_view_name": "HTMLView",
            "description": "",
            "description_tooltip": null,
            "layout": "IPY_MODEL_0e0f23e5fd214b7ebf24dd99d56b5924",
            "placeholder": "​",
            "style": "IPY_MODEL_3f4b3306a6cd4c3c809e9f90e0531569",
            "value": ""
          }
        },
        "af289e45d55a46e6a80267b104d88fac": {
          "model_module": "@jupyter-widgets/controls",
          "model_module_version": "1.5.0",
          "model_name": "HBoxModel",
          "state": {
            "_dom_classes": [],
            "_model_module": "@jupyter-widgets/controls",
            "_model_module_version": "1.5.0",
            "_model_name": "HBoxModel",
            "_view_count": null,
            "_view_module": "@jupyter-widgets/controls",
            "_view_module_version": "1.5.0",
            "_view_name": "HBoxView",
            "box_style": "",
            "children": [
              "IPY_MODEL_57fcee70bb1e45098ee19dc565bca2bf",
              "IPY_MODEL_dd30c1e49a574d8298b5c308e43d26cd",
              "IPY_MODEL_69cf0dfed2974f2797c426821deda721"
            ],
            "layout": "IPY_MODEL_308fd00d0fe4474d89a935afa097f1c2"
          }
        },
        "bcba8d6cca3a404ea4648956f8ea6624": {
          "model_module": "@jupyter-widgets/controls",
          "model_module_version": "1.5.0",
          "model_name": "FloatProgressModel",
          "state": {
            "_dom_classes": [],
            "_model_module": "@jupyter-widgets/controls",
            "_model_module_version": "1.5.0",
            "_model_name": "FloatProgressModel",
            "_view_count": null,
            "_view_module": "@jupyter-widgets/controls",
            "_view_module_version": "1.5.0",
            "_view_name": "ProgressView",
            "bar_style": "success",
            "description": "",
            "description_tooltip": null,
            "layout": "IPY_MODEL_f4f894f04b6045279cec831850de7293",
            "max": 1,
            "min": 0,
            "orientation": "horizontal",
            "style": "IPY_MODEL_7cc7ff16fcda4ceda762485682a3e1be",
            "value": 0
          }
        },
        "cec816245ab040cb90524ad49bf031c2": {
          "model_module": "@jupyter-widgets/base",
          "model_module_version": "1.2.0",
          "model_name": "LayoutModel",
          "state": {
            "_model_module": "@jupyter-widgets/base",
            "_model_module_version": "1.2.0",
            "_model_name": "LayoutModel",
            "_view_count": null,
            "_view_module": "@jupyter-widgets/base",
            "_view_module_version": "1.2.0",
            "_view_name": "LayoutView",
            "align_content": null,
            "align_items": null,
            "align_self": null,
            "border": null,
            "bottom": null,
            "display": null,
            "flex": null,
            "flex_flow": null,
            "grid_area": null,
            "grid_auto_columns": null,
            "grid_auto_flow": null,
            "grid_auto_rows": null,
            "grid_column": null,
            "grid_gap": null,
            "grid_row": null,
            "grid_template_areas": null,
            "grid_template_columns": null,
            "grid_template_rows": null,
            "height": null,
            "justify_content": null,
            "justify_items": null,
            "left": null,
            "margin": null,
            "max_height": null,
            "max_width": null,
            "min_height": null,
            "min_width": null,
            "object_fit": null,
            "object_position": null,
            "order": null,
            "overflow": null,
            "overflow_x": null,
            "overflow_y": null,
            "padding": null,
            "right": null,
            "top": null,
            "visibility": null,
            "width": null
          }
        },
        "d3a3ab0accbe48789587555da2bb6494": {
          "model_module": "@jupyter-widgets/controls",
          "model_module_version": "1.5.0",
          "model_name": "HBoxModel",
          "state": {
            "_dom_classes": [],
            "_model_module": "@jupyter-widgets/controls",
            "_model_module_version": "1.5.0",
            "_model_name": "HBoxModel",
            "_view_count": null,
            "_view_module": "@jupyter-widgets/controls",
            "_view_module_version": "1.5.0",
            "_view_name": "HBoxView",
            "box_style": "",
            "children": [
              "IPY_MODEL_7f8b75ca663f46c5b0341a004e027c55",
              "IPY_MODEL_bcba8d6cca3a404ea4648956f8ea6624",
              "IPY_MODEL_4457a388fc76471facd0a4bdc30e0050"
            ],
            "layout": "IPY_MODEL_3393343e50e24059b3ffc9623bdd5993"
          }
        },
        "d5343f6a748e405cb267147c547b8bdb": {
          "model_module": "@jupyter-widgets/controls",
          "model_module_version": "1.5.0",
          "model_name": "ProgressStyleModel",
          "state": {
            "_model_module": "@jupyter-widgets/controls",
            "_model_module_version": "1.5.0",
            "_model_name": "ProgressStyleModel",
            "_view_count": null,
            "_view_module": "@jupyter-widgets/base",
            "_view_module_version": "1.2.0",
            "_view_name": "StyleView",
            "bar_color": null,
            "description_width": ""
          }
        },
        "dd30c1e49a574d8298b5c308e43d26cd": {
          "model_module": "@jupyter-widgets/controls",
          "model_module_version": "1.5.0",
          "model_name": "FloatProgressModel",
          "state": {
            "_dom_classes": [],
            "_model_module": "@jupyter-widgets/controls",
            "_model_module_version": "1.5.0",
            "_model_name": "FloatProgressModel",
            "_view_count": null,
            "_view_module": "@jupyter-widgets/controls",
            "_view_module_version": "1.5.0",
            "_view_name": "ProgressView",
            "bar_style": "",
            "description": "",
            "description_tooltip": null,
            "layout": "IPY_MODEL_78381e254ca643ba8bb4570d379649de",
            "max": 30,
            "min": 0,
            "orientation": "horizontal",
            "style": "IPY_MODEL_d5343f6a748e405cb267147c547b8bdb",
            "value": 10
          }
        },
        "e371a0fd0b08416aa8485bea541c2d81": {
          "model_module": "@jupyter-widgets/base",
          "model_module_version": "1.2.0",
          "model_name": "LayoutModel",
          "state": {
            "_model_module": "@jupyter-widgets/base",
            "_model_module_version": "1.2.0",
            "_model_name": "LayoutModel",
            "_view_count": null,
            "_view_module": "@jupyter-widgets/base",
            "_view_module_version": "1.2.0",
            "_view_name": "LayoutView",
            "align_content": null,
            "align_items": null,
            "align_self": null,
            "border": null,
            "bottom": null,
            "display": null,
            "flex": null,
            "flex_flow": null,
            "grid_area": null,
            "grid_auto_columns": null,
            "grid_auto_flow": null,
            "grid_auto_rows": null,
            "grid_column": null,
            "grid_gap": null,
            "grid_row": null,
            "grid_template_areas": null,
            "grid_template_columns": null,
            "grid_template_rows": null,
            "height": null,
            "justify_content": null,
            "justify_items": null,
            "left": null,
            "margin": null,
            "max_height": null,
            "max_width": null,
            "min_height": null,
            "min_width": null,
            "object_fit": null,
            "object_position": null,
            "order": null,
            "overflow": null,
            "overflow_x": null,
            "overflow_y": null,
            "padding": null,
            "right": null,
            "top": null,
            "visibility": null,
            "width": null
          }
        },
        "f4f894f04b6045279cec831850de7293": {
          "model_module": "@jupyter-widgets/base",
          "model_module_version": "1.2.0",
          "model_name": "LayoutModel",
          "state": {
            "_model_module": "@jupyter-widgets/base",
            "_model_module_version": "1.2.0",
            "_model_name": "LayoutModel",
            "_view_count": null,
            "_view_module": "@jupyter-widgets/base",
            "_view_module_version": "1.2.0",
            "_view_name": "LayoutView",
            "align_content": null,
            "align_items": null,
            "align_self": null,
            "border": null,
            "bottom": null,
            "display": null,
            "flex": null,
            "flex_flow": null,
            "grid_area": null,
            "grid_auto_columns": null,
            "grid_auto_flow": null,
            "grid_auto_rows": null,
            "grid_column": null,
            "grid_gap": null,
            "grid_row": null,
            "grid_template_areas": null,
            "grid_template_columns": null,
            "grid_template_rows": null,
            "height": null,
            "justify_content": null,
            "justify_items": null,
            "left": null,
            "margin": null,
            "max_height": null,
            "max_width": null,
            "min_height": null,
            "min_width": null,
            "object_fit": null,
            "object_position": null,
            "order": null,
            "overflow": null,
            "overflow_x": null,
            "overflow_y": null,
            "padding": null,
            "right": null,
            "top": null,
            "visibility": null,
            "width": "20px"
          }
        },
        "f8bde860e939474688aa9bf97dff9b0c": {
          "model_module": "@jupyter-widgets/controls",
          "model_module_version": "1.5.0",
          "model_name": "DescriptionStyleModel",
          "state": {
            "_model_module": "@jupyter-widgets/controls",
            "_model_module_version": "1.5.0",
            "_model_name": "DescriptionStyleModel",
            "_view_count": null,
            "_view_module": "@jupyter-widgets/base",
            "_view_module_version": "1.2.0",
            "_view_name": "StyleView",
            "description_width": ""
          }
        }
      }
    }
  },
  "nbformat": 4,
  "nbformat_minor": 5
}
